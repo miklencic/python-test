{
 "cells": [
  {
   "cell_type": "code",
   "execution_count": 1,
   "metadata": {
    "collapsed": true
   },
   "outputs": [],
   "source": [
    "import os\n",
    "import csv\n",
    "os.chdir('c:\\\\users\\\\miklencic\\\\desktop')\n",
    "os.getcwd()\n",
    "aa = open('downloads.tsv','r')\n",
    "aaa = csv.reader(aa,delimiter=\"\\t\")\n",
    "list = []\n",
    "for row in aaa:\n",
    "    list.append(row)\n",
    "aa.close()\n",
    "test=[]\n",
    "rnm =0"
   ]
  },
  {
   "cell_type": "code",
   "execution_count": 2,
   "metadata": {
    "collapsed": true
   },
   "outputs": [],
   "source": [
    "while rnm < len(list):\n",
    "    if rnm == 0:\n",
    "        combo=[list[rnm][49],list[rnm][52],list[rnm][75],list[rnm][12],list[rnm][13],list[rnm][14],list[rnm][19],list[rnm][29],list[rnm][38],list[rnm][39],list[rnm][46],list[rnm][85],list[rnm][45],list[rnm][22],list[rnm][188],list[rnm][165],'SPRANGE','BEDSRANGE']\n",
    "        test.append(combo)\n",
    "        rnm=rnm+1\n",
    "    \n",
    "    else:\n",
    "        if float(list[rnm][75])<200000:\n",
    "            if float(list[rnm][19])<2:\n",
    "                combo=[list[rnm][49],list[rnm][52],list[rnm][75],list[rnm][12],list[rnm][13],list[rnm][14],list[rnm][19],list[rnm][29],list[rnm][38],list[rnm][39],list[rnm][46],list[rnm][85],list[rnm][45],list[rnm][22],list[rnm][188],list[rnm][165],'<200K','1BR']\n",
    "                test.append(combo)\n",
    "                rnm=rnm+1\n",
    "            elif float(list[rnm][19])<3:\n",
    "                combo=[list[rnm][49],list[rnm][52],list[rnm][75],list[rnm][12],list[rnm][13],list[rnm][14],list[rnm][19],list[rnm][29],list[rnm][38],list[rnm][39],list[rnm][46],list[rnm][85],list[rnm][45],list[rnm][22],list[rnm][188],list[rnm][165],'<200K','2BR']\n",
    "                test.append(combo)\n",
    "                rnm=rnm+1\n",
    "            elif float(list[rnm][19])<4:\n",
    "                combo=[list[rnm][49],list[rnm][52],list[rnm][75],list[rnm][12],list[rnm][13],list[rnm][14],list[rnm][19],list[rnm][29],list[rnm][38],list[rnm][39],list[rnm][46],list[rnm][85],list[rnm][45],list[rnm][22],list[rnm][188],list[rnm][165],'<200K','3BR']\n",
    "                test.append(combo)\n",
    "                rnm=rnm+1\n",
    "            elif float(list[rnm][19])<5:\n",
    "                combo=[list[rnm][49],list[rnm][52],list[rnm][75],list[rnm][12],list[rnm][13],list[rnm][14],list[rnm][19],list[rnm][29],list[rnm][38],list[rnm][39],list[rnm][46],list[rnm][85],list[rnm][45],list[rnm][22],list[rnm][188],list[rnm][165],'<200K','4BR']\n",
    "                test.append(combo)\n",
    "                rnm=rnm+1\n",
    "            elif float(list[rnm][19])<6:\n",
    "                combo=[list[rnm][49],list[rnm][52],list[rnm][75],list[rnm][12],list[rnm][13],list[rnm][14],list[rnm][19],list[rnm][29],list[rnm][38],list[rnm][39],list[rnm][46],list[rnm][85],list[rnm][45],list[rnm][22],list[rnm][188],list[rnm][165],'<200K','5BR']\n",
    "                test.append(combo)\n",
    "                rnm=rnm+1\n",
    "            else:\n",
    "                combo=[list[rnm][49],list[rnm][52],list[rnm][75],list[rnm][12],list[rnm][13],list[rnm][14],list[rnm][19],list[rnm][29],list[rnm][38],list[rnm][39],list[rnm][46],list[rnm][85],list[rnm][45],list[rnm][22],list[rnm][188],list[rnm][165],'<200K','6+BR']\n",
    "                test.append(combo)\n",
    "                rnm=rnm+1            \n",
    "                \n",
    "                \n",
    "        elif float(list[rnm][75])<400000:\n",
    "            if float(list[rnm][19])<2:\n",
    "                combo=[list[rnm][49],list[rnm][52],list[rnm][75],list[rnm][12],list[rnm][13],list[rnm][14],list[rnm][19],list[rnm][29],list[rnm][38],list[rnm][39],list[rnm][46],list[rnm][85],list[rnm][45],list[rnm][22],list[rnm][188],list[rnm][165],'200K-400K','1BR']\n",
    "                test.append(combo)\n",
    "                rnm=rnm+1\n",
    "            elif float(list[rnm][19])<3:\n",
    "                combo=[list[rnm][49],list[rnm][52],list[rnm][75],list[rnm][12],list[rnm][13],list[rnm][14],list[rnm][19],list[rnm][29],list[rnm][38],list[rnm][39],list[rnm][46],list[rnm][85],list[rnm][45],list[rnm][22],list[rnm][188],list[rnm][165],'200K-400K','2BR']\n",
    "                test.append(combo)\n",
    "                rnm=rnm+1\n",
    "            elif float(list[rnm][19])<4:\n",
    "                combo=[list[rnm][49],list[rnm][52],list[rnm][75],list[rnm][12],list[rnm][13],list[rnm][14],list[rnm][19],list[rnm][29],list[rnm][38],list[rnm][39],list[rnm][46],list[rnm][85],list[rnm][45],list[rnm][22],list[rnm][188],list[rnm][165],'200K-400K','3BR']\n",
    "                test.append(combo)\n",
    "                rnm=rnm+1\n",
    "            elif float(list[rnm][19])<5:\n",
    "                combo=[list[rnm][49],list[rnm][52],list[rnm][75],list[rnm][12],list[rnm][13],list[rnm][14],list[rnm][19],list[rnm][29],list[rnm][38],list[rnm][39],list[rnm][46],list[rnm][85],list[rnm][45],list[rnm][22],list[rnm][188],list[rnm][165],'200K-400K','4BR']\n",
    "                test.append(combo)\n",
    "                rnm=rnm+1\n",
    "            elif float(list[rnm][19])<6:\n",
    "                combo=[list[rnm][49],list[rnm][52],list[rnm][75],list[rnm][12],list[rnm][13],list[rnm][14],list[rnm][19],list[rnm][29],list[rnm][38],list[rnm][39],list[rnm][46],list[rnm][85],list[rnm][45],list[rnm][22],list[rnm][188],list[rnm][165],'200K-400K','5BR']\n",
    "                test.append(combo)\n",
    "                rnm=rnm+1\n",
    "            else:\n",
    "                combo=[list[rnm][49],list[rnm][52],list[rnm][75],list[rnm][12],list[rnm][13],list[rnm][14],list[rnm][19],list[rnm][29],list[rnm][38],list[rnm][39],list[rnm][46],list[rnm][85],list[rnm][45],list[rnm][22],list[rnm][188],list[rnm][165],'200K-400K','6+BR']\n",
    "                test.append(combo)\n",
    "                rnm=rnm+1    \n",
    "                \n",
    "        else:\n",
    "            if float(list[rnm][19])<2:\n",
    "                combo=[list[rnm][75],list[rnm][52],list[rnm][75],list[rnm][12],list[rnm][13],list[rnm][14],list[rnm][19],list[rnm][29],list[rnm][38],list[rnm][39],list[rnm][46],list[rnm][85],list[rnm][45],list[rnm][22],list[rnm][188],list[rnm][165],'400K+','1BR']\n",
    "                test.append(combo)\n",
    "                rnm=rnm+1\n",
    "            elif float(list[rnm][19])<3:\n",
    "                combo=[list[rnm][75],list[rnm][52],list[rnm][75],list[rnm][12],list[rnm][13],list[rnm][14],list[rnm][19],list[rnm][29],list[rnm][38],list[rnm][39],list[rnm][46],list[rnm][85],list[rnm][45],list[rnm][22],list[rnm][188],list[rnm][165],'400K+','2BR']\n",
    "                test.append(combo)\n",
    "                rnm=rnm+1\n",
    "            elif float(list[rnm][19])<4:\n",
    "                combo=[list[rnm][75],list[rnm][52],list[rnm][75],list[rnm][12],list[rnm][13],list[rnm][14],list[rnm][19],list[rnm][29],list[rnm][38],list[rnm][39],list[rnm][46],list[rnm][85],list[rnm][45],list[rnm][22],list[rnm][188],list[rnm][165],'400K+','3BR']\n",
    "                test.append(combo)\n",
    "                rnm=rnm+1\n",
    "            elif float(list[rnm][19])<5:\n",
    "                combo=[list[rnm][75],list[rnm][52],list[rnm][75],list[rnm][12],list[rnm][13],list[rnm][14],list[rnm][19],list[rnm][29],list[rnm][38],list[rnm][39],list[rnm][46],list[rnm][85],list[rnm][45],list[rnm][22],list[rnm][188],list[rnm][165],'400K+','4BR']\n",
    "                test.append(combo)\n",
    "                rnm=rnm+1\n",
    "            elif float(list[rnm][19])<6:\n",
    "                combo=[list[rnm][75],list[rnm][52],list[rnm][75],list[rnm][12],list[rnm][13],list[rnm][14],list[rnm][19],list[rnm][29],list[rnm][38],list[rnm][39],list[rnm][46],list[rnm][85],list[rnm][45],list[rnm][22],list[rnm][188],list[rnm][165],'400K+','5BR']\n",
    "                test.append(combo)\n",
    "                rnm=rnm+1\n",
    "            else:\n",
    "                combo=[list[rnm][75],list[rnm][52],list[rnm][75],list[rnm][12],list[rnm][13],list[rnm][14],list[rnm][19],list[rnm][29],list[rnm][38],list[rnm][39],list[rnm][46],list[rnm][85],list[rnm][45],list[rnm][22],list[rnm][188],list[rnm][165],'400K+','6+BR']\n",
    "                test.append(combo)\n",
    "                rnm=rnm+1\n",
    "        \n",
    "        \n",
    "    "
   ]
  },
  {
   "cell_type": "code",
   "execution_count": 3,
   "metadata": {
    "collapsed": false
   },
   "outputs": [],
   "source": [
    "aao = open('output2.csv','w',newline='')\n",
    "aaow = csv.writer(aao,delimiter=',')\n",
    "aaow.writerows(test)\n",
    "aao.close()"
   ]
  },
  {
   "cell_type": "code",
   "execution_count": null,
   "metadata": {
    "collapsed": true
   },
   "outputs": [],
   "source": []
  }
 ],
 "metadata": {
  "kernelspec": {
   "display_name": "Python 3",
   "language": "python",
   "name": "python3"
  },
  "language_info": {
   "codemirror_mode": {
    "name": "ipython",
    "version": 3
   },
   "file_extension": ".py",
   "mimetype": "text/x-python",
   "name": "python",
   "nbconvert_exporter": "python",
   "pygments_lexer": "ipython3",
   "version": "3.5.0"
  }
 },
 "nbformat": 4,
 "nbformat_minor": 0
}
