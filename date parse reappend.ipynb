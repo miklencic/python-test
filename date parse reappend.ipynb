{
 "cells": [
  {
   "cell_type": "code",
   "execution_count": 63,
   "metadata": {
    "collapsed": true
   },
   "outputs": [],
   "source": [
    "import os\n",
    "import csv\n",
    "os.chdir('c:\\\\users\\\\miklencic\\\\desktop')\n",
    "aaa= open('output2.csv','r')\n",
    "bbb = csv.reader(aaa,delimiter=\",\")\n",
    "\n",
    "newfile = []\n",
    "\n",
    "for row in bbb:\n",
    "    newfile.append(row)\n",
    "\n",
    "aaa.close()\n",
    "\n",
    "newfile2=[]\n",
    "\n",
    "cnt=0\n",
    "\n",
    "while cnt<len(newfile):\n",
    "    if cnt==0:\n",
    "        combo=[newfile[cnt][0],newfile[cnt][1],newfile[cnt][2],newfile[cnt][3],newfile[cnt][4],newfile[cnt][5],newfile[cnt][6],\n",
    "               newfile[cnt][7],newfile[cnt][8],newfile[cnt][9],newfile[cnt][10],newfile[cnt][11],newfile[cnt][12],newfile[cnt][13],\n",
    "               newfile[cnt][14],newfile[cnt][15],newfile[cnt][16],newfile[cnt][17],'ClOSEYRMO']\n",
    "        newfile2.append(combo)\n",
    "        cnt=cnt+1\n",
    "    else:\n",
    "        combo=[newfile[cnt][0],newfile[cnt][1],newfile[cnt][2],newfile[cnt][3],newfile[cnt][4],newfile[cnt][5],newfile[cnt][6],\n",
    "               newfile[cnt][7],newfile[cnt][8],newfile[cnt][9],newfile[cnt][10],newfile[cnt][11],newfile[cnt][12],newfile[cnt][13],\n",
    "               newfile[cnt][14],newfile[cnt][15],newfile[cnt][16],newfile[cnt][17],newfile[cnt][13][:4]+newfile[cnt][13][5:7]]\n",
    "        newfile2.append(combo)\n",
    "        cnt=cnt+1\n",
    "\n",
    "out=open('output3.csv','w',newline='')\n",
    "\n",
    "file=csv.writer(out,delimiter=',')\n",
    "\n",
    "file.writerows(newfile2)\n",
    "\n",
    "out.close()"
   ]
  }
 ],
 "metadata": {
  "kernelspec": {
   "display_name": "Python 3",
   "language": "python",
   "name": "python3"
  },
  "language_info": {
   "codemirror_mode": {
    "name": "ipython",
    "version": 3
   },
   "file_extension": ".py",
   "mimetype": "text/x-python",
   "name": "python",
   "nbconvert_exporter": "python",
   "pygments_lexer": "ipython3",
   "version": "3.5.0"
  }
 },
 "nbformat": 4,
 "nbformat_minor": 0
}
